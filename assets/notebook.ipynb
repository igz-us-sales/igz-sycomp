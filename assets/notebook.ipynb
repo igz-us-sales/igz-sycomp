{
 "cells": [
  {
   "cell_type": "code",
   "execution_count": 1,
   "metadata": {},
   "outputs": [],
   "source": [
    "import pickle\n",
    "from sklearn import svm\n",
    "from sklearn.datasets import load_iris\n",
    "from sklearn.model_selection import train_test_split\n",
    "from sklearn.metrics import accuracy_score"
   ]
  },
  {
   "cell_type": "code",
   "execution_count": 2,
   "metadata": {},
   "outputs": [],
   "source": [
    "def get_data(test_size):\n",
    "    X, y = load_iris(return_X_y=True, as_frame=True)\n",
    "    X_train, X_test, y_train, y_test = train_test_split(X, y, test_size=test_size)\n",
    "    return X_train, X_test, y_train, y_test"
   ]
  },
  {
   "cell_type": "code",
   "execution_count": 3,
   "metadata": {},
   "outputs": [],
   "source": [
    "def build_model(gamma, C):\n",
    "    return svm.SVC(gamma=gamma, C=C)"
   ]
  },
  {
   "cell_type": "code",
   "execution_count": 4,
   "metadata": {},
   "outputs": [],
   "source": [
    "def main(context, test_size, gamma, C):\n",
    "    # Get data\n",
    "    context.logger.info(\"Getting data\")\n",
    "    X_train, X_test, y_train, y_test = get_data(test_size)\n",
    "    \n",
    "    # Train model\n",
    "    context.logger.info(\"Training model\")\n",
    "    model = build_model(gamma, C)\n",
    "    model.fit(X_train, y_train)\n",
    "    \n",
    "    # Evalutate model\n",
    "    context.logger.info(\"Evaluating model\")\n",
    "    y_pred = model.predict(X_test)\n",
    "    accuracy = accuracy_score(y_test, y_pred)\n",
    "    context.log_result(\"accuracy\", accuracy)\n",
    "    \n",
    "    # Log datasets\n",
    "    context.logger.info(\"Logging datasets\")\n",
    "    context.log_dataset(key=\"X_train\", df=X_train, format=\"csv\", artifact_path=context.artifact_path)\n",
    "    context.log_dataset(key=\"X_test\", df=X_test, format=\"csv\", artifact_path=context.artifact_path)\n",
    "    context.log_dataset(key=\"y_train\", df=y_train.to_frame(), format=\"csv\", artifact_path=context.artifact_path)\n",
    "    context.log_dataset(key=\"y_test\", df=y_test.to_frame(), format=\"csv\", artifact_path=context.artifact_path)\n",
    "    \n",
    "    # Log model\n",
    "    context.logger.info(\"Logging model\")\n",
    "    pickle.dump(model, open(\"model.pkl\", 'wb'))\n",
    "    context.log_model(\n",
    "        key=\"notebook_model\",\n",
    "        artifact_path=context.artifact_subpath(context.uid),\n",
    "        model_file=\"model.pkl\",\n",
    "        metrics={\"accuracy\" : accuracy},\n",
    "        tag=\"latest\",\n",
    "        parameters=model.get_params(),\n",
    "        framework=\"sklearn\",\n",
    "    )"
   ]
  },
  {
   "cell_type": "code",
   "execution_count": null,
   "metadata": {},
   "outputs": [],
   "source": []
  }
 ],
 "metadata": {
  "kernelspec": {
   "display_name": "Python [conda env:root] *",
   "language": "python",
   "name": "conda-root-py"
  },
  "language_info": {
   "codemirror_mode": {
    "name": "ipython",
    "version": 3
   },
   "file_extension": ".py",
   "mimetype": "text/x-python",
   "name": "python",
   "nbconvert_exporter": "python",
   "pygments_lexer": "ipython3",
   "version": "3.7.6"
  }
 },
 "nbformat": 4,
 "nbformat_minor": 4
}
