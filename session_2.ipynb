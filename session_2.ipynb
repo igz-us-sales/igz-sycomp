{
 "cells": [
  {
   "cell_type": "markdown",
   "metadata": {
    "slideshow": {
     "slide_type": "slide"
    }
   },
   "source": [
    "# Part 2: Pipeline"
   ]
  },
  {
   "cell_type": "markdown",
   "metadata": {
    "slideshow": {
     "slide_type": "slide"
    }
   },
   "source": [
    "### Demo Overview"
   ]
  },
  {
   "cell_type": "markdown",
   "metadata": {
    "slideshow": {
     "slide_type": "fragment"
    }
   },
   "source": [
    "- Review file structure"
   ]
  },
  {
   "cell_type": "markdown",
   "metadata": {
    "slideshow": {
     "slide_type": "fragment"
    }
   },
   "source": [
    "- Create project"
   ]
  },
  {
   "cell_type": "markdown",
   "metadata": {
    "slideshow": {
     "slide_type": "fragment"
    }
   },
   "source": [
    "- Build Docker image (optional)"
   ]
  },
  {
   "cell_type": "markdown",
   "metadata": {
    "slideshow": {
     "slide_type": "fragment"
    }
   },
   "source": [
    "- Add functions to project"
   ]
  },
  {
   "cell_type": "markdown",
   "metadata": {
    "slideshow": {
     "slide_type": "fragment"
    }
   },
   "source": [
    "- Add pipelines to project"
   ]
  },
  {
   "cell_type": "markdown",
   "metadata": {
    "slideshow": {
     "slide_type": "fragment"
    }
   },
   "source": [
    "- Run pipeline"
   ]
  },
  {
   "cell_type": "markdown",
   "metadata": {
    "slideshow": {
     "slide_type": "slide"
    }
   },
   "source": [
    "### File Structure"
   ]
  },
  {
   "cell_type": "code",
   "execution_count": 1,
   "metadata": {
    "scrolled": true,
    "slideshow": {
     "slide_type": "fragment"
    }
   },
   "outputs": [
    {
     "name": "stdout",
     "output_type": "stream",
     "text": [
      " | - project\r\n",
      " | | - components\r\n",
      " | | | - get_prep_data.py\r\n",
      " | | | - train_eval_model.py\r\n",
      " | | - pipelines\r\n",
      " | | | - pipeline.py\r\n",
      " | | - project.yaml\r\n"
     ]
    }
   ],
   "source": [
    "!find ./project | grep -v .ipynb_checkpoints | grep -v __pycache__  | sed -e \"s/[^-][^\\/]*\\// |/g\" -e \"s/|\\([^ ]\\)/| - \\1/\""
   ]
  },
  {
   "cell_type": "markdown",
   "metadata": {
    "slideshow": {
     "slide_type": "slide"
    }
   },
   "source": [
    "### Setup MLRun Project"
   ]
  },
  {
   "cell_type": "code",
   "execution_count": 2,
   "metadata": {
    "slideshow": {
     "slide_type": "fragment"
    }
   },
   "outputs": [
    {
     "name": "stdout",
     "output_type": "stream",
     "text": [
      "Project name: onboarding\n",
      "Project path: /User/igz_repos/igz-sycomp/project\n",
      "Artifacts path: v3io:///projects/{{run.project}}/artifacts\n",
      "MLRun DB path: http://mlrun-api:8080\n"
     ]
    }
   ],
   "source": [
    "import os\n",
    "from os import path\n",
    "from mlrun import set_environment, new_project, mlconf\n",
    "\n",
    "# Set the default environment configuration\n",
    "project_name, artifact_path = set_environment(project=\"onboarding\")\n",
    "\n",
    "# Create project\n",
    "project_path = path.abspath(\"project\")\n",
    "project = new_project(name=project_name, context=project_path)\n",
    "\n",
    "print(f\"Project name: {project_name}\\nProject path: {project_path}\")\n",
    "print(f\"Artifacts path: {artifact_path}\\nMLRun DB path: {mlconf.dbpath}\")"
   ]
  },
  {
   "cell_type": "markdown",
   "metadata": {
    "slideshow": {
     "slide_type": "slide"
    }
   },
   "source": [
    "### Build Docker Image (Optional)"
   ]
  },
  {
   "cell_type": "code",
   "execution_count": 3,
   "metadata": {
    "slideshow": {
     "slide_type": "fragment"
    }
   },
   "outputs": [],
   "source": [
    "# image = f\"docker-registry.{os.getenv('IGZ_NAMESPACE_DOMAIN')}:80/feature-store-image\"\n",
    "image = \"mlrun/ml-models\""
   ]
  },
  {
   "cell_type": "code",
   "execution_count": 4,
   "metadata": {
    "slideshow": {
     "slide_type": "fragment"
    }
   },
   "outputs": [],
   "source": [
    "# Build Docker Image (only needs to be run once)\n",
    "from mlrun import new_function\n",
    "\n",
    "build_image = new_function(name=\"build-image\", kind=\"job\")\n",
    "build_image.build_config(\n",
    "    image=image,\n",
    "    base_image=\"mlrun/ml-models\",\n",
    "    commands=[\"pip install storey\"]\n",
    ")\n",
    "# build_image.deploy(with_mlrun=False)"
   ]
  },
  {
   "cell_type": "markdown",
   "metadata": {
    "slideshow": {
     "slide_type": "slide"
    }
   },
   "source": [
    "### Add Functions to Project"
   ]
  },
  {
   "cell_type": "markdown",
   "metadata": {
    "slideshow": {
     "slide_type": "fragment"
    }
   },
   "source": [
    "`project.set_function(func, name, kind, image)`"
   ]
  },
  {
   "cell_type": "code",
   "execution_count": 5,
   "metadata": {
    "slideshow": {
     "slide_type": "fragment"
    }
   },
   "outputs": [
    {
     "data": {
      "text/plain": [
       "<mlrun.runtimes.serving.ServingRuntime at 0x7fcd31758310>"
      ]
     },
     "execution_count": 5,
     "metadata": {},
     "output_type": "execute_result"
    }
   ],
   "source": [
    "project.set_function(func=\"components/get_prep_data.py\",\n",
    "                     name=\"get-prep-data\",\n",
    "                     kind=\"job\",\n",
    "                     image=image)\n",
    "project.set_function(func=\"components/train_eval_model.py\",\n",
    "                     name=\"train-eval-model\",\n",
    "                     kind=\"job\",\n",
    "                     image=image)\n",
    "project.set_function(func=\"hub://v2_model_server\",\n",
    "                     name=\"deploy-model\",\n",
    "                     kind=\"nuclio\",\n",
    "                     image=image)"
   ]
  },
  {
   "cell_type": "markdown",
   "metadata": {
    "slideshow": {
     "slide_type": "slide"
    }
   },
   "source": [
    "### Add Pipelines to Project"
   ]
  },
  {
   "cell_type": "markdown",
   "metadata": {
    "slideshow": {
     "slide_type": "fragment"
    }
   },
   "source": [
    "`project.set_workflow(name, workflow_path)`"
   ]
  },
  {
   "cell_type": "code",
   "execution_count": 6,
   "metadata": {
    "slideshow": {
     "slide_type": "fragment"
    }
   },
   "outputs": [],
   "source": [
    "project.set_workflow(name=\"main\", workflow_path=\"pipelines/pipeline.py\")\n",
    "project.save()"
   ]
  },
  {
   "cell_type": "code",
   "execution_count": 7,
   "metadata": {
    "slideshow": {
     "slide_type": "subslide"
    }
   },
   "outputs": [
    {
     "name": "stdout",
     "output_type": "stream",
     "text": [
      "kind: project\r\n",
      "metadata:\r\n",
      "  name: onboarding\r\n",
      "spec:\r\n",
      "  functions:\r\n",
      "  - url: components/get_prep_data.py\r\n",
      "    name: get-prep-data\r\n",
      "    kind: job\r\n",
      "    image: mlrun/ml-models\r\n",
      "  - url: components/train_eval_model.py\r\n",
      "    name: train-eval-model\r\n",
      "    kind: job\r\n",
      "    image: mlrun/ml-models\r\n",
      "  - url: hub://v2_model_server\r\n",
      "    name: deploy-model\r\n",
      "    kind: nuclio\r\n",
      "    image: mlrun/ml-models\r\n",
      "  workflows:\r\n",
      "  - name: main\r\n",
      "    path: pipelines/pipeline.py\r\n",
      "  artifacts: []\r\n",
      "  artifact_path: v3io:///projects/{{run.project}}/artifacts\r\n",
      "  source: ''\r\n",
      "  subpath: ''\r\n",
      "  origin_url: ''\r\n",
      "  desired_state: online\r\n"
     ]
    }
   ],
   "source": [
    "!cat project/project.yaml"
   ]
  },
  {
   "cell_type": "markdown",
   "metadata": {
    "slideshow": {
     "slide_type": "slide"
    }
   },
   "source": [
    "### Run Pipeline"
   ]
  },
  {
   "cell_type": "markdown",
   "metadata": {
    "slideshow": {
     "slide_type": "fragment"
    }
   },
   "source": [
    "Py: `project.run(name, arguments, artifact_path)`"
   ]
  },
  {
   "cell_type": "markdown",
   "metadata": {
    "slideshow": {
     "slide_type": "fragment"
    }
   },
   "source": [
    "CLI: `mlrun project ./project --run <NAME>`"
   ]
  },
  {
   "cell_type": "code",
   "execution_count": 8,
   "metadata": {
    "slideshow": {
     "slide_type": "fragment"
    }
   },
   "outputs": [
    {
     "name": "stdout",
     "output_type": "stream",
     "text": [
      "> 2021-09-15 18:36:38,841 [info] using in-cluster config.\n"
     ]
    },
    {
     "data": {
      "text/html": [
       "Experiment link <a href=\"https://dashboard.default-tenant.app.us-sales.iguazio-cd0.com/pipelines/#/experiments/details/c172d0c1-e6db-4b15-b18e-2adddabd1c25\" target=\"_blank\" >here</a>"
      ],
      "text/plain": [
       "<IPython.core.display.HTML object>"
      ]
     },
     "metadata": {},
     "output_type": "display_data"
    },
    {
     "data": {
      "text/html": [
       "Run link <a href=\"https://dashboard.default-tenant.app.us-sales.iguazio-cd0.com/pipelines/#/runs/details/c6ded426-416f-4100-b372-ac6780fa5b64\" target=\"_blank\" >here</a>"
      ],
      "text/plain": [
       "<IPython.core.display.HTML object>"
      ]
     },
     "metadata": {},
     "output_type": "display_data"
    },
    {
     "name": "stdout",
     "output_type": "stream",
     "text": [
      "> 2021-09-15 18:36:39,301 [info] Pipeline run id=c6ded426-416f-4100-b372-ac6780fa5b64, check UI or DB for progress\n"
     ]
    }
   ],
   "source": [
    "run_id = project.run(\n",
    "    name=\"main\",\n",
    "    arguments={\"dataset\": \"/User/igz_repos/igz-sycomp/assets/heart.csv\"},\n",
    "    artifact_path=artifact_path,\n",
    "    dirty=True\n",
    ")"
   ]
  },
  {
   "cell_type": "markdown",
   "metadata": {
    "slideshow": {
     "slide_type": "slide"
    }
   },
   "source": [
    "# Part 3: Model Inference"
   ]
  },
  {
   "cell_type": "markdown",
   "metadata": {
    "slideshow": {
     "slide_type": "slide"
    }
   },
   "source": [
    "### Get Model Endpoint"
   ]
  },
  {
   "cell_type": "code",
   "execution_count": 9,
   "metadata": {
    "slideshow": {
     "slide_type": "fragment"
    }
   },
   "outputs": [
    {
     "data": {
      "text/plain": [
       "'http://nuclio-onboarding-v2-model-server:8080/v2/models/heart_disease_model/predict'"
      ]
     },
     "execution_count": 9,
     "metadata": {},
     "output_type": "execute_result"
    }
   ],
   "source": [
    "import json\n",
    "import requests\n",
    "import numpy as np\n",
    "import pandas as pd\n",
    "\n",
    "url = 'http://nuclio-{}-{}:8080'.format(project.name, project.func('deploy-model').metadata.name)\n",
    "url += \"/v2/models/heart_disease_model/predict\"\n",
    "url"
   ]
  },
  {
   "cell_type": "markdown",
   "metadata": {
    "slideshow": {
     "slide_type": "slide"
    }
   },
   "source": [
    "### Payload for Model"
   ]
  },
  {
   "cell_type": "code",
   "execution_count": 10,
   "metadata": {
    "slideshow": {
     "slide_type": "fragment"
    }
   },
   "outputs": [],
   "source": [
    "X_test = [[0.0, 0.0, 1.0, 0.0, 0.5833333333333334, 1.0, 0.0, 1.0, 0.0, 0.0, 0.0, 1.0, 0.0, 0.0, 1.0, 0.0, 0.0, 1.0, 1.0, 0.0, 0.0, 0.9342105263157896, 0.6965811965811965, 0.0, 0.3157894736842104, 0.2272727272727272, 1.0],\n",
    "          [0.0, 0.0, 1.0, 0.0, 0.6041666666666666, 1.0, 0.0, 1.0, 0.0, 0.0, 0.0, 1.0, 0.0, 1.0, 0.0, 0.0, 1.0, 0.0, 0.0, 0.0, 1.0, 0.2631578947368422, 0.8205128205128205, 1.0, 0.4561403508771928, 1.0, 1.0],\n",
    "          [0.0, 0.0, 1.0, 0.0, 0.25, 0.0, 1.0, 0.0, 1.0, 0.0, 0.0, 1.0, 0.0, 1.0, 0.0, 1.0, 0.0, 0.0, 0.0, 1.0, 0.0, 0.4736842105263159, 0.3333333333333333, 0.0, 0.7368421052631577, 0.3181818181818182, 0.0]]\n",
    "\n",
    "y_test = [0, 0, 1]"
   ]
  },
  {
   "cell_type": "code",
   "execution_count": 11,
   "metadata": {
    "slideshow": {
     "slide_type": "fragment"
    }
   },
   "outputs": [
    {
     "data": {
      "text/plain": [
       "'{\"inputs\": [[0.0, 0.0, 1.0, 0.0, 0.5833333333333334, 1.0, 0.0, 1.0, 0.0, 0.0, 0.0, 1.0, 0.0, 0.0, 1.0, 0.0, 0.0, 1.0, 1.0, 0.0, 0.0, 0.9342105263157896, 0.6965811965811965, 0.0, 0.3157894736842104, 0.2272727272727272, 1.0], [0.0, 0.0, 1.0, 0.0, 0.6041666666666666, 1.0, 0.0, 1.0, 0.0, 0.0, 0.0, 1.0, 0.0, 1.0, 0.0, 0.0, 1.0, 0.0, 0.0, 0.0, 1.0, 0.2631578947368422, 0.8205128205128205, 1.0, 0.4561403508771928, 1.0, 1.0], [0.0, 0.0, 1.0, 0.0, 0.25, 0.0, 1.0, 0.0, 1.0, 0.0, 0.0, 1.0, 0.0, 1.0, 0.0, 1.0, 0.0, 0.0, 0.0, 1.0, 0.0, 0.4736842105263159, 0.3333333333333333, 0.0, 0.7368421052631577, 0.3181818181818182, 0.0]]}'"
      ]
     },
     "execution_count": 11,
     "metadata": {},
     "output_type": "execute_result"
    }
   ],
   "source": [
    "data = json.dumps({\"inputs\" : X_test})\n",
    "data"
   ]
  },
  {
   "cell_type": "markdown",
   "metadata": {
    "slideshow": {
     "slide_type": "slide"
    }
   },
   "source": [
    "### Inference Model via HTTP"
   ]
  },
  {
   "cell_type": "code",
   "execution_count": 12,
   "metadata": {
    "slideshow": {
     "slide_type": "fragment"
    }
   },
   "outputs": [
    {
     "name": "stdout",
     "output_type": "stream",
     "text": [
      "CPU times: user 8.49 ms, sys: 163 µs, total: 8.66 ms\n",
      "Wall time: 19.3 ms\n"
     ]
    },
    {
     "data": {
      "text/plain": [
       "{'id': 'effd4ea2-b608-45c7-9e2c-fa411b72aacd',\n",
       " 'model_name': 'heart_disease_model',\n",
       " 'outputs': [0, 0, 1]}"
      ]
     },
     "execution_count": 12,
     "metadata": {},
     "output_type": "execute_result"
    }
   ],
   "source": [
    "%%time\n",
    "predictions = requests.post(url=url, data=data).json()\n",
    "predictions"
   ]
  },
  {
   "cell_type": "code",
   "execution_count": 13,
   "metadata": {
    "slideshow": {
     "slide_type": "fragment"
    }
   },
   "outputs": [
    {
     "data": {
      "text/plain": [
       "[0, 0, 1]"
      ]
     },
     "execution_count": 13,
     "metadata": {},
     "output_type": "execute_result"
    }
   ],
   "source": [
    "y_test"
   ]
  }
 ],
 "metadata": {
  "celltoolbar": "Slideshow",
  "kernelspec": {
   "display_name": "Python [conda env:root] *",
   "language": "python",
   "name": "conda-root-py"
  },
  "language_info": {
   "codemirror_mode": {
    "name": "ipython",
    "version": 3
   },
   "file_extension": ".py",
   "mimetype": "text/x-python",
   "name": "python",
   "nbconvert_exporter": "python",
   "pygments_lexer": "ipython3",
   "version": "3.7.6"
  },
  "rise": {
   "enable_chalkboard": true,
   "scroll": true
  }
 },
 "nbformat": 4,
 "nbformat_minor": 4
}
